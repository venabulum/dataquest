{
 "cells": [
  {
   "cell_type": "code",
   "execution_count": 1,
   "metadata": {},
   "outputs": [],
   "source": [
    "import pandas as pd\n",
    "laptops = pd.read_csv('C:\\\\Users\\\\VChernik\\\\Downloads\\\\laptops.csv', encoding=\"Windows-1251\", index_col=1)"
   ]
  },
  {
   "cell_type": "code",
   "execution_count": 2,
   "metadata": {},
   "outputs": [],
   "source": [
    "# нормализация заголовков\n",
    "def clean_data(strn):\n",
    "    strn = strn.strip()\n",
    "    strn = strn.replace(\"Operating System\", \"os\")\n",
    "    strn = strn.replace(\" \", \"_\")\n",
    "    strn = strn.replace(\"(\", \"\")\n",
    "    strn = strn.replace(\")\", \"\")\n",
    "    strn = strn.lower()\n",
    "    return strn\n",
    "\n",
    "laptops.columns = [clean_data(data) for data in laptops.columns]"
   ]
  },
  {
   "cell_type": "code",
   "execution_count": 3,
   "metadata": {},
   "outputs": [],
   "source": [
    "# чистим экраны и память\n",
    "laptops[\"screen_size\"] = laptops[\"screen_size\"].str.replace('\"','').astype(float)\n",
    "laptops.rename({\"screen_size\": \"screen_size_inches\"}, axis=1, inplace=True)\n",
    "laptops[\"ram\"] = laptops[\"ram\"].str.replace(\"GB\", \"\").astype(int)\n",
    "laptops.rename({\"ram\": \"ram_gb\"}, axis = 1, inplace = True)"
   ]
  },
  {
   "cell_type": "code",
   "execution_count": 4,
   "metadata": {},
   "outputs": [],
   "source": [
    "# чистим вес и цену\n",
    "laptops[\"weight\"] = (laptops[\"weight\"]\n",
    "                     .str.replace(\"kgs\", \"\")\n",
    "                     .str.replace(\"kg\", \"\")\n",
    "                     .astype(float)\n",
    "                    )\n",
    "\n",
    "laptops.rename({\"weight\": \"weight_kg\"}, axis = 1, inplace = True)\n",
    "weight_describe = laptops[\"weight_kg\"].describe()\n",
    "\n",
    "laptops[\"price_euros\"] = (laptops[\"price_euros\"]\n",
    "                         .str.replace(\",\",\".\")\n",
    "                         .astype(float)\n",
    "                         )"
   ]
  },
  {
   "cell_type": "code",
   "execution_count": 5,
   "metadata": {},
   "outputs": [],
   "source": [
    "# чистим проц и видео\n",
    "laptops[\"gpu_manufacturer\"] = (laptops[\"gpu\"]\n",
    "                                    .str.split(n=1,expand=True)\n",
    "                                    .iloc[:,0]\n",
    "                               )\n",
    "\n",
    "laptops[\"cpu_manufacturer\"] = (laptops[\"cpu\"]\n",
    "                              .str.split(n=1, expand=True)\n",
    "                              .iloc[:, 0]\n",
    "                              )"
   ]
  },
  {
   "cell_type": "code",
   "execution_count": 6,
   "metadata": {},
   "outputs": [],
   "source": [
    "laptops[\"cpu_speed_ghz\"] = (laptops[\"cpu\"]\n",
    "                           .str.replace(\"GHz\", \"\")\n",
    "                           .str.rsplit(n=1, expand=True)\n",
    "                           .iloc[:, 1]\n",
    "                           .astype(float)\n",
    "                           )"
   ]
  },
  {
   "cell_type": "code",
   "execution_count": 7,
   "metadata": {},
   "outputs": [],
   "source": [
    "screen_res = laptops[\"screen\"].str.rsplit(n=1, expand=True)\n",
    "screen_res.loc[screen_res[0].isnull(), 1] = screen_res[0]\n",
    "laptops[\"screen_resolution\"] = (screen_res[1]\n",
    "                                    .str.split(n=1,expand=True)\n",
    "                                    .iloc[:,0]\n",
    "                                    )"
   ]
  },
  {
   "cell_type": "code",
   "execution_count": 8,
   "metadata": {},
   "outputs": [],
   "source": [
    "mapping_dict = {\n",
    "    'Android': 'Android',\n",
    "    'Chrome OS': 'Chrome OS',\n",
    "    'Linux': 'Linux',\n",
    "    'Mac OS': 'macOS',\n",
    "    'No OS': 'No OS',\n",
    "    'Windows': 'Windows',\n",
    "    'macOS': 'macOS'\n",
    "}\n",
    "\n",
    "laptops[\"os\"] = laptops[\"os\"].map(mapping_dict)"
   ]
  },
  {
   "cell_type": "code",
   "execution_count": 9,
   "metadata": {},
   "outputs": [],
   "source": [
    "laptops_no_null_rows = laptops.dropna()\n",
    "laptops_no_null_cols = laptops.dropna(axis=1)"
   ]
  },
  {
   "cell_type": "code",
   "execution_count": 10,
   "metadata": {},
   "outputs": [],
   "source": [
    "value_counts_before = laptops.loc[laptops[\"os_version\"].isnull(), \"os\"].value_counts()\n",
    "laptops.loc[laptops[\"os\"] == \"macOS\", \"os_version\"] = \"X\"\n",
    "laptops.loc[laptops[\"os\"] == \"No OS\", \"os_version\"] = \"Version Unknown\"\n",
    "value_counts_after = laptops.loc[laptops[\"os_version\"].isnull(), \"os\"].value_counts()"
   ]
  },
  {
   "cell_type": "markdown",
   "metadata": {},
   "source": [
    "## Challenge: Extracting Storage Information\n",
    "- Clean the storage column, creating four new columns:\n",
    " - storage_1_capacity_gb, with float dtype.\n",
    " - storage_1_type.\n",
    " - storage_2_capacity_gb, with float dtype. If there is only one drive, this column should be null.\n",
    " - storage_2_type. If there is only one drive, this column should be null.\n",
    "\n",
    "If needed, don't forget to strip the columns of any extra whitespace.\n",
    "- Drop the original storage column and any temporary columns you made while completing the exercise."
   ]
  },
  {
   "cell_type": "code",
   "execution_count": 11,
   "metadata": {},
   "outputs": [],
   "source": [
    "laptops['storage'] = (laptops['storage']\n",
    "                     .str.replace('TB', '000GB')\n",
    "                     )\n",
    "laptop_storages = (laptops['storage']\n",
    "                   .str.split('+', expand=True)\n",
    "                  )\n",
    "\n",
    "first_drive = laptop_storages.iloc[:, 0].str.split('GB', expand=True)\n",
    "second_drive = laptop_storages.iloc[:, 1].str.split('GB', expand=True)\n",
    "\n",
    "storage_1_capacity_gb = first_drive[0].astype(float)\n",
    "storage_1_type = first_drive[1]\n",
    "storage_2_capacity_gb = second_drive[0].astype(float)\n",
    "storage_2_type = second_drive[1]\n",
    "\n",
    "laptops['storage_1_capacity_gb'] = storage_1_capacity_gb\n",
    "laptops['storage_1_type'] = storage_1_type\n",
    "laptops['storage_2_capacity_gb'] = storage_2_capacity_gb\n",
    "laptops['storage_2_type'] = storage_2_type\n",
    "laptops = laptops.drop('storage', axis=1)"
   ]
  },
  {
   "cell_type": "code",
   "execution_count": null,
   "metadata": {},
   "outputs": [],
   "source": [
    "# Are laptops made by Apple more expensive than those by other manufacturers?\n",
    "# What is the best value laptop with a screen size of 15\" or more?\n",
    "# Which laptop has the most storage space?"
   ]
  },
  {
   "cell_type": "code",
   "execution_count": null,
   "metadata": {},
   "outputs": [],
   "source": []
  }
 ],
 "metadata": {
  "kernelspec": {
   "display_name": "Python 3",
   "language": "python",
   "name": "python3"
  },
  "language_info": {
   "codemirror_mode": {
    "name": "ipython",
    "version": 3
   },
   "file_extension": ".py",
   "mimetype": "text/x-python",
   "name": "python",
   "nbconvert_exporter": "python",
   "pygments_lexer": "ipython3",
   "version": "3.6.5"
  }
 },
 "nbformat": 4,
 "nbformat_minor": 2
}
